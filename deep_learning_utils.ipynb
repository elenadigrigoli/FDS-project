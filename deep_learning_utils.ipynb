{
  "nbformat": 4,
  "nbformat_minor": 0,
  "metadata": {
    "colab": {
      "provenance": [],
      "authorship_tag": "ABX9TyOIs4ta1rChHn0k8pUMvaFi",
      "include_colab_link": true
    },
    "kernelspec": {
      "name": "python3",
      "display_name": "Python 3"
    },
    "language_info": {
      "name": "python"
    }
  },
  "cells": [
    {
      "cell_type": "markdown",
      "metadata": {
        "id": "view-in-github",
        "colab_type": "text"
      },
      "source": [
        "<a href=\"https://colab.research.google.com/github/elenadigrigoli/FDS-project/blob/main/deep_learning_utils.ipynb\" target=\"_parent\"><img src=\"https://colab.research.google.com/assets/colab-badge.svg\" alt=\"Open In Colab\"/></a>"
      ]
    },
    {
      "cell_type": "code",
      "execution_count": 1,
      "metadata": {
        "id": "5Iw3ydPg3sRg"
      },
      "outputs": [],
      "source": [
        "# Function to de-normalize images\n",
        "def denormalize_image(tensor, mean, std):\n",
        "    tensor = tensor.clone()  # Create a copy to avoid modifying the original\n",
        "    for t, m, s in zip(tensor, mean, std):\n",
        "        t.mul_(s).add_(m)  # Reverse the normalization operation\n",
        "    return tensor"
      ]
    },
    {
      "cell_type": "code",
      "source": [
        "# Function to visualize a batch of images\n",
        "def show_images_from_loader(loader, parent_dataset, mean, std):\n",
        "    \"\"\"\n",
        "    Display a batch of preprocessed images with their labels.\n",
        "\n",
        "    Args:\n",
        "        loader (DataLoader): The DataLoader from which to extract a batch.\n",
        "        parent_dataset (Dataset): The parent dataset (e.g., train_dataset_full).\n",
        "        mean (list): Mean used for normalization.\n",
        "        std (list): Standard deviation used for normalization.\n",
        "    \"\"\"\n",
        "    classes = parent_dataset.classes  # Get the class names from the parent dataset\n",
        "    data_iter = iter(loader)\n",
        "    images, labels = next(data_iter)  # Retrieve a batch\n",
        "\n",
        "    # De-normalize the batch\n",
        "    images = images.clone()\n",
        "    for i in range(images.size(0)):\n",
        "        images[i] = denormalize_image(images[i], mean, std)\n",
        "\n",
        "    # Convert to numpy format for matplotlib\n",
        "    images = images.numpy().transpose((0, 2, 3, 1))  # From CxHxW to HxWxC\n",
        "\n",
        "    # Display the first 4 images in the batch\n",
        "    fig, axes = plt.subplots(1, 4, figsize=(15, 5))\n",
        "    for i, ax in enumerate(axes):\n",
        "        if i >= len(images):  # Avoid errors if there are fewer than 4 images in the batch\n",
        "            break\n",
        "        ax.imshow(np.clip(images[i], 0, 1))  # Ensure values are in the range [0, 1]\n",
        "        ax.axis(\"off\")\n",
        "        ax.set_title(f\"Label: {classes[labels[i]]}\")\n",
        "    plt.show()\n"
      ],
      "metadata": {
        "id": "19zC0NIp39Cp"
      },
      "execution_count": 2,
      "outputs": []
    },
    {
      "cell_type": "code",
      "source": [],
      "metadata": {
        "id": "AGyOsqYC39FR"
      },
      "execution_count": null,
      "outputs": []
    },
    {
      "cell_type": "code",
      "source": [],
      "metadata": {
        "id": "vRl7pIi639IB"
      },
      "execution_count": null,
      "outputs": []
    },
    {
      "cell_type": "code",
      "source": [],
      "metadata": {
        "id": "sW8By2nE39KL"
      },
      "execution_count": null,
      "outputs": []
    },
    {
      "cell_type": "code",
      "source": [],
      "metadata": {
        "id": "AuxucXtb39M-"
      },
      "execution_count": null,
      "outputs": []
    },
    {
      "cell_type": "code",
      "source": [],
      "metadata": {
        "id": "KswkyEZ839QW"
      },
      "execution_count": null,
      "outputs": []
    }
  ]
}